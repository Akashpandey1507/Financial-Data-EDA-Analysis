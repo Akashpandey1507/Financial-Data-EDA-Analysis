{
 "cells": [
  {
   "cell_type": "markdown",
   "metadata": {},
   "source": [
    "# Data Cleaning"
   ]
  },
  {
   "cell_type": "code",
   "execution_count": 1,
   "metadata": {},
   "outputs": [],
   "source": [
    "import pandas as pd\n",
    "import numpy as np"
   ]
  },
  {
   "cell_type": "markdown",
   "metadata": {},
   "source": [
    "* Read the datasets"
   ]
  },
  {
   "cell_type": "code",
   "execution_count": 2,
   "metadata": {},
   "outputs": [],
   "source": [
    "data = pd.read_csv(\"Financials.csv\")"
   ]
  },
  {
   "cell_type": "markdown",
   "metadata": {},
   "source": [
    "* Copy the original datasets"
   ]
  },
  {
   "cell_type": "code",
   "execution_count": 3,
   "metadata": {},
   "outputs": [],
   "source": [
    "df = data.copy()"
   ]
  },
  {
   "cell_type": "markdown",
   "metadata": {},
   "source": [
    "* Read the Datasets"
   ]
  },
  {
   "cell_type": "code",
   "execution_count": 4,
   "metadata": {},
   "outputs": [
    {
     "data": {
      "text/html": [
       "<div>\n",
       "<style scoped>\n",
       "    .dataframe tbody tr th:only-of-type {\n",
       "        vertical-align: middle;\n",
       "    }\n",
       "\n",
       "    .dataframe tbody tr th {\n",
       "        vertical-align: top;\n",
       "    }\n",
       "\n",
       "    .dataframe thead th {\n",
       "        text-align: right;\n",
       "    }\n",
       "</style>\n",
       "<table border=\"1\" class=\"dataframe\">\n",
       "  <thead>\n",
       "    <tr style=\"text-align: right;\">\n",
       "      <th></th>\n",
       "      <th>Segment</th>\n",
       "      <th>Country</th>\n",
       "      <th>Product</th>\n",
       "      <th>Discount Band</th>\n",
       "      <th>Units Sold</th>\n",
       "      <th>Manufacturing Price</th>\n",
       "      <th>Sale Price</th>\n",
       "      <th>Gross Sales</th>\n",
       "      <th>Discounts</th>\n",
       "      <th>Sales</th>\n",
       "      <th>COGS</th>\n",
       "      <th>Profit</th>\n",
       "      <th>Date</th>\n",
       "      <th>Month Number</th>\n",
       "      <th>Month Name</th>\n",
       "      <th>Year</th>\n",
       "    </tr>\n",
       "  </thead>\n",
       "  <tbody>\n",
       "    <tr>\n",
       "      <th>0</th>\n",
       "      <td>Government</td>\n",
       "      <td>Canada</td>\n",
       "      <td>Carretera</td>\n",
       "      <td>None</td>\n",
       "      <td>$1,618.50</td>\n",
       "      <td>$3.00</td>\n",
       "      <td>$20.00</td>\n",
       "      <td>$32,370.00</td>\n",
       "      <td>$-</td>\n",
       "      <td>$32,370.00</td>\n",
       "      <td>$16,185.00</td>\n",
       "      <td>$16,185.00</td>\n",
       "      <td>01/01/2014</td>\n",
       "      <td>1</td>\n",
       "      <td>January</td>\n",
       "      <td>2014</td>\n",
       "    </tr>\n",
       "    <tr>\n",
       "      <th>1</th>\n",
       "      <td>Government</td>\n",
       "      <td>Germany</td>\n",
       "      <td>Carretera</td>\n",
       "      <td>None</td>\n",
       "      <td>$1,321.00</td>\n",
       "      <td>$3.00</td>\n",
       "      <td>$20.00</td>\n",
       "      <td>$26,420.00</td>\n",
       "      <td>$-</td>\n",
       "      <td>$26,420.00</td>\n",
       "      <td>$13,210.00</td>\n",
       "      <td>$13,210.00</td>\n",
       "      <td>01/01/2014</td>\n",
       "      <td>1</td>\n",
       "      <td>January</td>\n",
       "      <td>2014</td>\n",
       "    </tr>\n",
       "    <tr>\n",
       "      <th>2</th>\n",
       "      <td>Midmarket</td>\n",
       "      <td>France</td>\n",
       "      <td>Carretera</td>\n",
       "      <td>None</td>\n",
       "      <td>$2,178.00</td>\n",
       "      <td>$3.00</td>\n",
       "      <td>$15.00</td>\n",
       "      <td>$32,670.00</td>\n",
       "      <td>$-</td>\n",
       "      <td>$32,670.00</td>\n",
       "      <td>$21,780.00</td>\n",
       "      <td>$10,890.00</td>\n",
       "      <td>01/06/2014</td>\n",
       "      <td>6</td>\n",
       "      <td>June</td>\n",
       "      <td>2014</td>\n",
       "    </tr>\n",
       "    <tr>\n",
       "      <th>3</th>\n",
       "      <td>Midmarket</td>\n",
       "      <td>Germany</td>\n",
       "      <td>Carretera</td>\n",
       "      <td>None</td>\n",
       "      <td>$888.00</td>\n",
       "      <td>$3.00</td>\n",
       "      <td>$15.00</td>\n",
       "      <td>$13,320.00</td>\n",
       "      <td>$-</td>\n",
       "      <td>$13,320.00</td>\n",
       "      <td>$8,880.00</td>\n",
       "      <td>$4,440.00</td>\n",
       "      <td>01/06/2014</td>\n",
       "      <td>6</td>\n",
       "      <td>June</td>\n",
       "      <td>2014</td>\n",
       "    </tr>\n",
       "    <tr>\n",
       "      <th>4</th>\n",
       "      <td>Midmarket</td>\n",
       "      <td>Mexico</td>\n",
       "      <td>Carretera</td>\n",
       "      <td>None</td>\n",
       "      <td>$2,470.00</td>\n",
       "      <td>$3.00</td>\n",
       "      <td>$15.00</td>\n",
       "      <td>$37,050.00</td>\n",
       "      <td>$-</td>\n",
       "      <td>$37,050.00</td>\n",
       "      <td>$24,700.00</td>\n",
       "      <td>$12,350.00</td>\n",
       "      <td>01/06/2014</td>\n",
       "      <td>6</td>\n",
       "      <td>June</td>\n",
       "      <td>2014</td>\n",
       "    </tr>\n",
       "  </tbody>\n",
       "</table>\n",
       "</div>"
      ],
      "text/plain": [
       "      Segment  Country     Product   Discount Band   Units Sold    \n",
       "0  Government   Canada   Carretera            None    $1,618.50   \\\n",
       "1  Government  Germany   Carretera            None    $1,321.00    \n",
       "2   Midmarket   France   Carretera            None    $2,178.00    \n",
       "3   Midmarket  Germany   Carretera            None      $888.00    \n",
       "4   Midmarket   Mexico   Carretera            None    $2,470.00    \n",
       "\n",
       "   Manufacturing Price   Sale Price   Gross Sales   Discounts         Sales    \n",
       "0                $3.00       $20.00    $32,370.00        $-      $32,370.00   \\\n",
       "1                $3.00       $20.00    $26,420.00        $-      $26,420.00    \n",
       "2                $3.00       $15.00    $32,670.00        $-      $32,670.00    \n",
       "3                $3.00       $15.00    $13,320.00        $-      $13,320.00    \n",
       "4                $3.00       $15.00    $37,050.00        $-      $37,050.00    \n",
       "\n",
       "          COGS        Profit         Date  Month Number  Month Name   Year  \n",
       "0   $16,185.00    $16,185.00   01/01/2014             1     January   2014  \n",
       "1   $13,210.00    $13,210.00   01/01/2014             1     January   2014  \n",
       "2   $21,780.00    $10,890.00   01/06/2014             6        June   2014  \n",
       "3    $8,880.00     $4,440.00   01/06/2014             6        June   2014  \n",
       "4   $24,700.00    $12,350.00   01/06/2014             6        June   2014  "
      ]
     },
     "execution_count": 4,
     "metadata": {},
     "output_type": "execute_result"
    }
   ],
   "source": [
    "df.head()"
   ]
  },
  {
   "cell_type": "markdown",
   "metadata": {},
   "source": [
    "# The dataset contains various financial and sales-related information, including:\n",
    "\n",
    "* Segment: the segment to which the sale belongs (e.g., Government, Midmarket)\n",
    "* Country: the country where the sale occurred\n",
    "* Product: the name of the product sold\n",
    "* Discount Band: the discount level applied to the sale\n",
    "* Units Sold: the number of units sold\n",
    "* Manufacturing Price: the price at which the product was manufactured\n",
    "* Sale Price: the price at which the product was sold\n",
    "* Gross Sales: the total sales before discounts\n",
    "* Discounts: the amount discounted from the gross sales\n",
    "* Sales: the total sales after discounts\n",
    "* COGS (Cost of Goods Sold): the cost to produce the goods sold\n",
    "* Profit: the profit from the sale (Sales - COGS)\n",
    "* Date: the date of the sale\n",
    "* Month Number: the month of the sale (numerical)\n",
    "* Month Name: the month of the sale (name)\n",
    "* Year: the year of the sale"
   ]
  },
  {
   "cell_type": "markdown",
   "metadata": {},
   "source": [
    "# Data Processing"
   ]
  },
  {
   "cell_type": "markdown",
   "metadata": {},
   "source": [
    "* Handling teh columns"
   ]
  },
  {
   "cell_type": "code",
   "execution_count": 5,
   "metadata": {},
   "outputs": [
    {
     "data": {
      "text/plain": [
       "Index(['Segment', 'Country', 'Product', 'Discount Band', 'Units Sold',\n",
       "       'Manufacturing Price', 'Sale Price', 'Gross Sales', 'Discounts',\n",
       "       'Sales', 'COGS', 'Profit', 'Date', 'Month Number', 'Month Name',\n",
       "       'Year'],\n",
       "      dtype='object')"
      ]
     },
     "execution_count": 5,
     "metadata": {},
     "output_type": "execute_result"
    }
   ],
   "source": [
    "# Remove leading and trailing spaces from column names\n",
    "df.columns = df.columns.str.strip()\n",
    "\n",
    "# Display the updated column names\n",
    "df.columns\n"
   ]
  },
  {
   "cell_type": "code",
   "execution_count": 6,
   "metadata": {},
   "outputs": [
    {
     "data": {
      "text/plain": [
       "(700, 16)"
      ]
     },
     "execution_count": 6,
     "metadata": {},
     "output_type": "execute_result"
    }
   ],
   "source": [
    "df.shape"
   ]
  },
  {
   "cell_type": "markdown",
   "metadata": {},
   "source": [
    "* Checking the null values"
   ]
  },
  {
   "cell_type": "code",
   "execution_count": 7,
   "metadata": {},
   "outputs": [
    {
     "data": {
      "text/plain": [
       "Segment                0\n",
       "Country                0\n",
       "Product                0\n",
       "Discount Band          0\n",
       "Units Sold             0\n",
       "Manufacturing Price    0\n",
       "Sale Price             0\n",
       "Gross Sales            0\n",
       "Discounts              0\n",
       "Sales                  0\n",
       "COGS                   0\n",
       "Profit                 0\n",
       "Date                   0\n",
       "Month Number           0\n",
       "Month Name             0\n",
       "Year                   0\n",
       "dtype: int64"
      ]
     },
     "execution_count": 7,
     "metadata": {},
     "output_type": "execute_result"
    }
   ],
   "source": [
    "df.isnull().sum()"
   ]
  },
  {
   "cell_type": "markdown",
   "metadata": {},
   "source": [
    "# Import the visualisation libraries"
   ]
  },
  {
   "cell_type": "code",
   "execution_count": 8,
   "metadata": {},
   "outputs": [],
   "source": [
    "import matplotlib.pyplot as plt\n",
    "import seaborn as sns"
   ]
  },
  {
   "cell_type": "code",
   "execution_count": 9,
   "metadata": {},
   "outputs": [
    {
     "data": {
      "text/plain": [
       "<Axes: >"
      ]
     },
     "execution_count": 9,
     "metadata": {},
     "output_type": "execute_result"
    },
    {
     "data": {
      "image/png": "[encoded data removed]",
      "text/plain": [
       "<Figure size 2500x1000 with 2 Axes>"
      ]
     },
     "metadata": {},
     "output_type": "display_data"
    }
   ],
   "source": [
    "plt.figure(figsize=(25,10))\n",
    "\n",
    "sns.heatmap(df.isnull())"
   ]
  },
  {
   "cell_type": "markdown",
   "metadata": {},
   "source": [
    "* There are no missing values in the dataset, which is a good sign. The descriptive statistics provide some interesting insights:"
   ]
  },
  {
   "cell_type": "markdown",
   "metadata": {},
   "source": [
    "* Checking the Data types for columns"
   ]
  },
  {
   "cell_type": "code",
   "execution_count": 10,
   "metadata": {},
   "outputs": [
    {
     "name": "stdout",
     "output_type": "stream",
     "text": [
      "<class 'pandas.core.frame.DataFrame'>\n",
      "RangeIndex: 700 entries, 0 to 699\n",
      "Data columns (total 16 columns):\n",
      " #   Column               Non-Null Count  Dtype \n",
      "---  ------               --------------  ----- \n",
      " 0   Segment              700 non-null    object\n",
      " 1   Country              700 non-null    object\n",
      " 2   Product              700 non-null    object\n",
      " 3   Discount Band        700 non-null    object\n",
      " 4   Units Sold           700 non-null    object\n",
      " 5   Manufacturing Price  700 non-null    object\n",
      " 6   Sale Price           700 non-null    object\n",
      " 7   Gross Sales          700 non-null    object\n",
      " 8   Discounts            700 non-null    object\n",
      " 9   Sales                700 non-null    object\n",
      " 10  COGS                 700 non-null    object\n",
      " 11  Profit               700 non-null    object\n",
      " 12  Date                 700 non-null    object\n",
      " 13  Month Number         700 non-null    int64 \n",
      " 14  Month Name           700 non-null    object\n",
      " 15  Year                 700 non-null    int64 \n",
      "dtypes: int64(2), object(14)\n",
      "memory usage: 87.6+ KB\n"
     ]
    }
   ],
   "source": [
    "df.info()"
   ]
  },
  {
   "cell_type": "markdown",
   "metadata": {},
   "source": [
    "##  Cleaning the unwated symbols from columns and replace that"
   ]
  },
  {
   "cell_type": "code",
   "execution_count": 11,
   "metadata": {},
   "outputs": [],
   "source": [
    "df['Units Sold'] = df['Units Sold'].str.replace('$','')\n",
    "df['Units Sold'] = df['Units Sold'].str.replace('.','')\n",
    "df['Units Sold'] = df['Units Sold'].str.replace(',','')\n"
   ]
  },
  {
   "cell_type": "code",
   "execution_count": 12,
   "metadata": {},
   "outputs": [],
   "source": [
    "df['Manufacturing Price'] = df['Manufacturing Price'].str.replace('$','')\n",
    "df['Manufacturing Price'] = df['Manufacturing Price'].str.replace('.','')\n"
   ]
  },
  {
   "cell_type": "code",
   "execution_count": 13,
   "metadata": {},
   "outputs": [],
   "source": [
    "df['Sale Price'] = df['Sale Price'].str.replace('$','')\n",
    "df['Sale Price'] = df['Sale Price'].str.replace('.','')\n",
    "df['Sale Price'] = df['Sale Price'].str.replace(',','')\n"
   ]
  },
  {
   "cell_type": "code",
   "execution_count": 14,
   "metadata": {},
   "outputs": [],
   "source": [
    "df['Gross Sales'] = df['Gross Sales'].str.replace('$','')\n",
    "df['Gross Sales'] = df['Gross Sales'].str.replace('.','')\n",
    "df['Gross Sales'] = df['Gross Sales'].str.replace(',','')"
   ]
  },
  {
   "cell_type": "code",
   "execution_count": 15,
   "metadata": {},
   "outputs": [],
   "source": [
    "df['Sales'] = df['Sales'].str.replace('$','')\n",
    "df['Sales'] = df['Sales'].str.replace('.','')\n",
    "df['Sales'] = df['Sales'].str.replace(',','')\n"
   ]
  },
  {
   "cell_type": "code",
   "execution_count": 16,
   "metadata": {},
   "outputs": [],
   "source": [
    "df['COGS'] = df['COGS'].str.replace('$','')\n",
    "df['COGS'] = df['COGS'].str.replace('.','')\n",
    "df['COGS'] = df['COGS'].str.replace(',','')\n"
   ]
  },
  {
   "cell_type": "markdown",
   "metadata": {},
   "source": [
    "## Changing the Datatypes"
   ]
  },
  {
   "cell_type": "code",
   "execution_count": 17,
   "metadata": {},
   "outputs": [],
   "source": [
    "df['Units Sold'] = df['Units Sold'].astype(np.int64)\n",
    "df['Manufacturing Price'] = df['Manufacturing Price'].astype(np.int64)\n",
    "df['Sale Price'] = df['Sale Price'].astype(np.int64)\n",
    "df['Gross Sales'] = df['Gross Sales'].astype(np.int64)\n",
    "df['Sales'] = df['Sales'].astype(np.int64)\n",
    "df['COGS'] = df['COGS'].astype(np.int64)"
   ]
  },
  {
   "cell_type": "markdown",
   "metadata": {},
   "source": [
    "# Update the Profit Columns"
   ]
  },
  {
   "cell_type": "code",
   "execution_count": 18,
   "metadata": {},
   "outputs": [],
   "source": [
    "df['Profit'] = df['Sales'] - df['COGS']"
   ]
  },
  {
   "cell_type": "markdown",
   "metadata": {},
   "source": [
    "* Handling the \"Discounts\" Columns"
   ]
  },
  {
   "cell_type": "code",
   "execution_count": 19,
   "metadata": {},
   "outputs": [],
   "source": [
    "df['Discounts'] = df['Discounts'].str.replace('$','')\n",
    "df['Discounts'] = df['Discounts'].str.replace('.','')\n",
    "df['Discounts'] = df['Discounts'].str.replace(',','')\n",
    "df['Discounts'] = df['Discounts'].str.strip()\n",
    "df['Discounts'] = df['Discounts'].str.replace('-','0')"
   ]
  },
  {
   "cell_type": "markdown",
   "metadata": {},
   "source": [
    "* Changing the Datatype for columns \"Discounts\""
   ]
  },
  {
   "cell_type": "code",
   "execution_count": 20,
   "metadata": {},
   "outputs": [],
   "source": [
    "df['Discounts'] = df['Discounts'].astype('float')"
   ]
  },
  {
   "cell_type": "code",
   "execution_count": 21,
   "metadata": {},
   "outputs": [],
   "source": [
    "df['Date'] = pd.to_datetime(df['Date'])"
   ]
  },
  {
   "cell_type": "code",
   "execution_count": 22,
   "metadata": {},
   "outputs": [
    {
     "name": "stdout",
     "output_type": "stream",
     "text": [
      "<class 'pandas.core.frame.DataFrame'>\n",
      "RangeIndex: 700 entries, 0 to 699\n",
      "Data columns (total 16 columns):\n",
      " #   Column               Non-Null Count  Dtype         \n",
      "---  ------               --------------  -----         \n",
      " 0   Segment              700 non-null    object        \n",
      " 1   Country              700 non-null    object        \n",
      " 2   Product              700 non-null    object        \n",
      " 3   Discount Band        700 non-null    object        \n",
      " 4   Units Sold           700 non-null    int64         \n",
      " 5   Manufacturing Price  700 non-null    int64         \n",
      " 6   Sale Price           700 non-null    int64         \n",
      " 7   Gross Sales          700 non-null    int64         \n",
      " 8   Discounts            700 non-null    float64       \n",
      " 9   Sales                700 non-null    int64         \n",
      " 10  COGS                 700 non-null    int64         \n",
      " 11  Profit               700 non-null    int64         \n",
      " 12  Date                 700 non-null    datetime64[ns]\n",
      " 13  Month Number         700 non-null    int64         \n",
      " 14  Month Name           700 non-null    object        \n",
      " 15  Year                 700 non-null    int64         \n",
      "dtypes: datetime64[ns](1), float64(1), int64(9), object(5)\n",
      "memory usage: 87.6+ KB\n"
     ]
    }
   ],
   "source": [
    "df.info()"
   ]
  },
  {
   "cell_type": "code",
   "execution_count": 23,
   "metadata": {},
   "outputs": [
    {
     "data": {
      "text/plain": [
       "<Axes: title={'center': 'Data Types'}>"
      ]
     },
     "execution_count": 23,
     "metadata": {},
     "output_type": "execute_result"
    },
    {
     "data": {
      "image/png": "[encoded data removed]",
      "text/plain": [
       "<Figure size 2500x1000 with 1 Axes>"
      ]
     },
     "metadata": {},
     "output_type": "display_data"
    }
   ],
   "source": [
    "plt.figure(figsize=(25,10))\n",
    "\n",
    "plt.title('Data Types', fontsize=25)\n",
    "\n",
    "df.dtypes.value_counts().plot(kind=\"bar\")"
   ]
  },
  {
   "cell_type": "code",
   "execution_count": 24,
   "metadata": {},
   "outputs": [],
   "source": [
    "df.to_csv('Financials_Final_Data.csv', index=False)"
   ]
  },
  {
   "cell_type": "code",
   "execution_count": 25,
   "metadata": {},
   "outputs": [
    {
     "data": {
      "text/html": [
       "<div>\n",
       "<style scoped>\n",
       "    .dataframe tbody tr th:only-of-type {\n",
       "        vertical-align: middle;\n",
       "    }\n",
       "\n",
       "    .dataframe tbody tr th {\n",
       "        vertical-align: top;\n",
       "    }\n",
       "\n",
       "    .dataframe thead th {\n",
       "        text-align: right;\n",
       "    }\n",
       "</style>\n",
       "<table border=\"1\" class=\"dataframe\">\n",
       "  <thead>\n",
       "    <tr style=\"text-align: right;\">\n",
       "      <th></th>\n",
       "      <th>Segment</th>\n",
       "      <th>Country</th>\n",
       "      <th>Product</th>\n",
       "      <th>Discount Band</th>\n",
       "      <th>Units Sold</th>\n",
       "      <th>Manufacturing Price</th>\n",
       "      <th>Sale Price</th>\n",
       "      <th>Gross Sales</th>\n",
       "      <th>Discounts</th>\n",
       "      <th>Sales</th>\n",
       "      <th>COGS</th>\n",
       "      <th>Profit</th>\n",
       "      <th>Date</th>\n",
       "      <th>Month Number</th>\n",
       "      <th>Month Name</th>\n",
       "      <th>Year</th>\n",
       "    </tr>\n",
       "  </thead>\n",
       "  <tbody>\n",
       "    <tr>\n",
       "      <th>0</th>\n",
       "      <td>Government</td>\n",
       "      <td>Canada</td>\n",
       "      <td>Carretera</td>\n",
       "      <td>None</td>\n",
       "      <td>161850</td>\n",
       "      <td>300</td>\n",
       "      <td>2000</td>\n",
       "      <td>3237000</td>\n",
       "      <td>0.0</td>\n",
       "      <td>3237000</td>\n",
       "      <td>1618500</td>\n",
       "      <td>1618500</td>\n",
       "      <td>2014-01-01</td>\n",
       "      <td>1</td>\n",
       "      <td>January</td>\n",
       "      <td>2014</td>\n",
       "    </tr>\n",
       "    <tr>\n",
       "      <th>1</th>\n",
       "      <td>Government</td>\n",
       "      <td>Germany</td>\n",
       "      <td>Carretera</td>\n",
       "      <td>None</td>\n",
       "      <td>132100</td>\n",
       "      <td>300</td>\n",
       "      <td>2000</td>\n",
       "      <td>2642000</td>\n",
       "      <td>0.0</td>\n",
       "      <td>2642000</td>\n",
       "      <td>1321000</td>\n",
       "      <td>1321000</td>\n",
       "      <td>2014-01-01</td>\n",
       "      <td>1</td>\n",
       "      <td>January</td>\n",
       "      <td>2014</td>\n",
       "    </tr>\n",
       "    <tr>\n",
       "      <th>2</th>\n",
       "      <td>Midmarket</td>\n",
       "      <td>France</td>\n",
       "      <td>Carretera</td>\n",
       "      <td>None</td>\n",
       "      <td>217800</td>\n",
       "      <td>300</td>\n",
       "      <td>1500</td>\n",
       "      <td>3267000</td>\n",
       "      <td>0.0</td>\n",
       "      <td>3267000</td>\n",
       "      <td>2178000</td>\n",
       "      <td>1089000</td>\n",
       "      <td>2014-01-06</td>\n",
       "      <td>6</td>\n",
       "      <td>June</td>\n",
       "      <td>2014</td>\n",
       "    </tr>\n",
       "    <tr>\n",
       "      <th>3</th>\n",
       "      <td>Midmarket</td>\n",
       "      <td>Germany</td>\n",
       "      <td>Carretera</td>\n",
       "      <td>None</td>\n",
       "      <td>88800</td>\n",
       "      <td>300</td>\n",
       "      <td>1500</td>\n",
       "      <td>1332000</td>\n",
       "      <td>0.0</td>\n",
       "      <td>1332000</td>\n",
       "      <td>888000</td>\n",
       "      <td>444000</td>\n",
       "      <td>2014-01-06</td>\n",
       "      <td>6</td>\n",
       "      <td>June</td>\n",
       "      <td>2014</td>\n",
       "    </tr>\n",
       "    <tr>\n",
       "      <th>4</th>\n",
       "      <td>Midmarket</td>\n",
       "      <td>Mexico</td>\n",
       "      <td>Carretera</td>\n",
       "      <td>None</td>\n",
       "      <td>247000</td>\n",
       "      <td>300</td>\n",
       "      <td>1500</td>\n",
       "      <td>3705000</td>\n",
       "      <td>0.0</td>\n",
       "      <td>3705000</td>\n",
       "      <td>2470000</td>\n",
       "      <td>1235000</td>\n",
       "      <td>2014-01-06</td>\n",
       "      <td>6</td>\n",
       "      <td>June</td>\n",
       "      <td>2014</td>\n",
       "    </tr>\n",
       "    <tr>\n",
       "      <th>...</th>\n",
       "      <td>...</td>\n",
       "      <td>...</td>\n",
       "      <td>...</td>\n",
       "      <td>...</td>\n",
       "      <td>...</td>\n",
       "      <td>...</td>\n",
       "      <td>...</td>\n",
       "      <td>...</td>\n",
       "      <td>...</td>\n",
       "      <td>...</td>\n",
       "      <td>...</td>\n",
       "      <td>...</td>\n",
       "      <td>...</td>\n",
       "      <td>...</td>\n",
       "      <td>...</td>\n",
       "      <td>...</td>\n",
       "    </tr>\n",
       "    <tr>\n",
       "      <th>695</th>\n",
       "      <td>Small Business</td>\n",
       "      <td>France</td>\n",
       "      <td>Amarilla</td>\n",
       "      <td>High</td>\n",
       "      <td>247500</td>\n",
       "      <td>26000</td>\n",
       "      <td>30000</td>\n",
       "      <td>74250000</td>\n",
       "      <td>11137500.0</td>\n",
       "      <td>63112500</td>\n",
       "      <td>61875000</td>\n",
       "      <td>1237500</td>\n",
       "      <td>2014-01-03</td>\n",
       "      <td>3</td>\n",
       "      <td>March</td>\n",
       "      <td>2014</td>\n",
       "    </tr>\n",
       "    <tr>\n",
       "      <th>696</th>\n",
       "      <td>Small Business</td>\n",
       "      <td>Mexico</td>\n",
       "      <td>Amarilla</td>\n",
       "      <td>High</td>\n",
       "      <td>54600</td>\n",
       "      <td>26000</td>\n",
       "      <td>30000</td>\n",
       "      <td>16380000</td>\n",
       "      <td>2457000.0</td>\n",
       "      <td>13923000</td>\n",
       "      <td>13650000</td>\n",
       "      <td>273000</td>\n",
       "      <td>2014-01-10</td>\n",
       "      <td>10</td>\n",
       "      <td>October</td>\n",
       "      <td>2014</td>\n",
       "    </tr>\n",
       "    <tr>\n",
       "      <th>697</th>\n",
       "      <td>Government</td>\n",
       "      <td>Mexico</td>\n",
       "      <td>Montana</td>\n",
       "      <td>High</td>\n",
       "      <td>136800</td>\n",
       "      <td>500</td>\n",
       "      <td>700</td>\n",
       "      <td>957600</td>\n",
       "      <td>143640.0</td>\n",
       "      <td>813960</td>\n",
       "      <td>684000</td>\n",
       "      <td>129960</td>\n",
       "      <td>2014-01-02</td>\n",
       "      <td>2</td>\n",
       "      <td>February</td>\n",
       "      <td>2014</td>\n",
       "    </tr>\n",
       "    <tr>\n",
       "      <th>698</th>\n",
       "      <td>Government</td>\n",
       "      <td>Canada</td>\n",
       "      <td>Paseo</td>\n",
       "      <td>High</td>\n",
       "      <td>72300</td>\n",
       "      <td>1000</td>\n",
       "      <td>700</td>\n",
       "      <td>506100</td>\n",
       "      <td>75915.0</td>\n",
       "      <td>430185</td>\n",
       "      <td>361500</td>\n",
       "      <td>68685</td>\n",
       "      <td>2014-01-04</td>\n",
       "      <td>4</td>\n",
       "      <td>April</td>\n",
       "      <td>2014</td>\n",
       "    </tr>\n",
       "    <tr>\n",
       "      <th>699</th>\n",
       "      <td>Channel Partners</td>\n",
       "      <td>United States of America</td>\n",
       "      <td>VTT</td>\n",
       "      <td>High</td>\n",
       "      <td>180600</td>\n",
       "      <td>25000</td>\n",
       "      <td>1200</td>\n",
       "      <td>2167200</td>\n",
       "      <td>325080.0</td>\n",
       "      <td>1842120</td>\n",
       "      <td>541800</td>\n",
       "      <td>1300320</td>\n",
       "      <td>2014-01-05</td>\n",
       "      <td>5</td>\n",
       "      <td>May</td>\n",
       "      <td>2014</td>\n",
       "    </tr>\n",
       "  </tbody>\n",
       "</table>\n",
       "<p>700 rows × 16 columns</p>\n",
       "</div>"
      ],
      "text/plain": [
       "              Segment                   Country      Product Discount Band   \n",
       "0          Government                    Canada   Carretera          None   \\\n",
       "1          Government                   Germany   Carretera          None    \n",
       "2           Midmarket                    France   Carretera          None    \n",
       "3           Midmarket                   Germany   Carretera          None    \n",
       "4           Midmarket                    Mexico   Carretera          None    \n",
       "..                ...                       ...          ...           ...   \n",
       "695    Small Business                    France    Amarilla          High    \n",
       "696    Small Business                    Mexico    Amarilla          High    \n",
       "697        Government                    Mexico     Montana          High    \n",
       "698        Government                    Canada       Paseo          High    \n",
       "699  Channel Partners  United States of America         VTT          High    \n",
       "\n",
       "     Units Sold  Manufacturing Price  Sale Price  Gross Sales   Discounts   \n",
       "0        161850                  300        2000      3237000         0.0  \\\n",
       "1        132100                  300        2000      2642000         0.0   \n",
       "2        217800                  300        1500      3267000         0.0   \n",
       "3         88800                  300        1500      1332000         0.0   \n",
       "4        247000                  300        1500      3705000         0.0   \n",
       "..          ...                  ...         ...          ...         ...   \n",
       "695      247500                26000       30000     74250000  11137500.0   \n",
       "696       54600                26000       30000     16380000   2457000.0   \n",
       "697      136800                  500         700       957600    143640.0   \n",
       "698       72300                 1000         700       506100     75915.0   \n",
       "699      180600                25000        1200      2167200    325080.0   \n",
       "\n",
       "        Sales      COGS   Profit       Date  Month Number  Month Name  Year  \n",
       "0     3237000   1618500  1618500 2014-01-01             1    January   2014  \n",
       "1     2642000   1321000  1321000 2014-01-01             1    January   2014  \n",
       "2     3267000   2178000  1089000 2014-01-06             6       June   2014  \n",
       "3     1332000    888000   444000 2014-01-06             6       June   2014  \n",
       "4     3705000   2470000  1235000 2014-01-06             6       June   2014  \n",
       "..        ...       ...      ...        ...           ...         ...   ...  \n",
       "695  63112500  61875000  1237500 2014-01-03             3      March   2014  \n",
       "696  13923000  13650000   273000 2014-01-10            10    October   2014  \n",
       "697    813960    684000   129960 2014-01-02             2   February   2014  \n",
       "698    430185    361500    68685 2014-01-04             4      April   2014  \n",
       "699   1842120    541800  1300320 2014-01-05             5        May   2014  \n",
       "\n",
       "[700 rows x 16 columns]"
      ]
     },
     "execution_count": 25,
     "metadata": {},
     "output_type": "execute_result"
    }
   ],
   "source": [
    "df"
   ]
  }
 ],
 "metadata": {
  "kernelspec": {
   "display_name": "Python 3",
   "language": "python",
   "name": "python3"
  },
  "language_info": {
   "codemirror_mode": {
    "name": "ipython",
    "version": 3
   },
   "file_extension": ".py",
   "mimetype": "text/x-python",
   "name": "python",
   "nbconvert_exporter": "python",
   "pygments_lexer": "ipython3",
   "version": "3.11.4"
  },
  "orig_nbformat": 4
 },
 "nbformat": 4,
 "nbformat_minor": 2
}
